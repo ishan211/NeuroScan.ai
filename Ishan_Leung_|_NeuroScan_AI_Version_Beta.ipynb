{
  "nbformat": 4,
  "nbformat_minor": 0,
  "metadata": {
    "colab": {
      "provenance": [],
      "authorship_tag": "ABX9TyN7c1vsVNz8c1siXmcfUFdE",
      "include_colab_link": true
    },
    "kernelspec": {
      "name": "python3",
      "display_name": "Python 3"
    },
    "language_info": {
      "name": "python"
    }
  },
  "cells": [
    {
      "cell_type": "markdown",
      "metadata": {
        "id": "view-in-github",
        "colab_type": "text"
      },
      "source": [
        "<a href=\"https://colab.research.google.com/github/ishan211/neurolink.ai/blob/main/Ishan_Leung_%7C_NeuroScan_AI_Version_Beta.ipynb\" target=\"_parent\"><img src=\"https://colab.research.google.com/assets/colab-badge.svg\" alt=\"Open In Colab\"/></a>"
      ]
    },
    {
      "cell_type": "code",
      "execution_count": 1,
      "metadata": {
        "colab": {
          "base_uri": "https://localhost:8080/",
          "height": 90
        },
        "id": "DmaIRnumCE6l",
        "outputId": "200d47f6-1597-443c-eef9-9118fd12e3d7"
      },
      "outputs": [
        {
          "output_type": "execute_result",
          "data": {
            "text/plain": [
              "'\\nNeuroScan AI Version Alpha\\nCreated By Ishan Leung\\n\\nBuilt Using Tensorflow and Python 3\\n\\nInstructions:\\n(1) Drag keras_model.h5, labels.txt, and testing data (image files)\\nto files tab. Note: Drag files directly and DO NOT put the files into a\\nsubfolder and drag that subfolder over. Ensure the files follow the naming\\nconvention: image(num).jpg. ie: image(37).jpg\\n\\n(2) Click Runtime --> Run All\\n\\n(3) Enter file number for the file you want to test\\n\\n(4) Interpret Results\\n\\nTODO:\\n* Batch Upload\\n* Accuracy as a Percent\\n'"
            ],
            "application/vnd.google.colaboratory.intrinsic+json": {
              "type": "string"
            }
          },
          "metadata": {},
          "execution_count": 1
        }
      ],
      "source": [
        "\"\"\"\n",
        "NeuroScan AI Version Alpha\n",
        "Created By Ishan Leung\n",
        "\n",
        "Built Using Tensorflow and Python 3\n",
        "\n",
        "Instructions:\n",
        "(1) Drag keras_model.h5, labels.txt, and testing data (image files)\n",
        "to files tab. Note: Drag files directly and DO NOT put the files into a\n",
        "subfolder and drag that subfolder over. Ensure the files follow the naming\n",
        "convention: image(num).jpg. ie: image(37).jpg\n",
        "\n",
        "(2) Click Runtime --> Run All\n",
        "\n",
        "(3) Enter file number for the file you want to test\n",
        "\n",
        "(4) Interpret Results\n",
        "\n",
        "TODO:\n",
        "* Batch Upload\n",
        "* Accuracy as a Percent\n",
        "\"\"\""
      ]
    },
    {
      "cell_type": "code",
      "source": [
        "\"\"\"!pip install tensorflow==2.15.0\"\"\"\n",
        "import tensorflow\n",
        "print(tensorflow.__version__)"
      ],
      "metadata": {
        "colab": {
          "base_uri": "https://localhost:8080/"
        },
        "id": "-Gml7L5WAeev",
        "outputId": "6f1e6764-bf27-49c6-cd9a-cc3bd1bc023e"
      },
      "execution_count": null,
      "outputs": [
        {
          "output_type": "stream",
          "name": "stdout",
          "text": [
            "2.15.0\n"
          ]
        }
      ]
    },
    {
      "cell_type": "code",
      "source": [
        "from keras.models import load_model  # TensorFlow is required for Keras to work\n",
        "from PIL import Image, ImageOps  # Install pillow instead of PIL\n",
        "import numpy as np\n",
        "\n",
        "# Disable scientific notation for clarity\n",
        "np.set_printoptions(suppress=True)\n",
        "\n",
        "model_name = \"\"\n",
        "\n",
        "def pick_model():\n",
        "    global model_name\n",
        "    while True:\n",
        "        m_type = input(\"Which model version would you like to use? 1 for model 1, 2 for model 2, 3 for model 3: \")\n",
        "        if m_type in ('1', '2', '3'):\n",
        "            print(\"Model \" + m_type + \" has been selected\")\n",
        "            if m_type == \"1\":\n",
        "                model_name = \"model1.h5\"\n",
        "            elif m_type == \"2\":\n",
        "                model_name = \"model2.h5\"\n",
        "            elif m_type == \"3\":\n",
        "                model_name = \"model3.h5\"\n",
        "            break\n",
        "        else:\n",
        "            print(\"Invalid input. Please try again.\")\n",
        "\n",
        "print(\"Welcome to NeuroScan AI By Ishan Leung\")\n",
        "pick_model()\n",
        "file = \"/content/dist/models/\" + model_name\n",
        "#print(file)\n",
        "# Load the model\n",
        "model = load_model(file, compile=False)\n",
        "\n",
        "# Load the labels\n",
        "class_names = open(\"/content/dist/labels.txt\", \"r\").readlines()\n",
        "\n",
        "class_name = \"\"\n",
        "image_number = \"\"\n",
        "\n",
        "def pick_class():\n",
        "    global class_name\n",
        "    while True:\n",
        "        c_type = input(\"Which class are you testing? `N` for No Tumor, `P` for Pituitary Tumor, `M` for Meningioma Tumor, & `G` for Glioma Tumor: \")\n",
        "        if c_type in ('N', 'P', 'M', 'G'):\n",
        "            print(\"Class \" + c_type + \" has been selected\")\n",
        "            if c_type == \"N\":\n",
        "                class_name = \"N\"\n",
        "            elif c_type == \"P\":\n",
        "                class_name = \"P\"\n",
        "            elif c_type == \"M\":\n",
        "                class_name = \"M\"\n",
        "            elif c_type == \"G\":\n",
        "                class_name = \"G\"\n",
        "            break\n",
        "        else:\n",
        "            print(\"Invalid input. Please try again.\")\n",
        "\n",
        "def pick_number():\n",
        "    global image_number\n",
        "    while True:\n",
        "        try:\n",
        "            n = int(input(\"Pick a number between 1 and 100: \"))\n",
        "            if 1 <= n <= 100:\n",
        "                image_number = str(n)\n",
        "                print(\"Number \" + image_number + \" has been selected\")\n",
        "                break\n",
        "            else:\n",
        "                print(\"Number out of range. Please pick a number between 1 and 100.\")\n",
        "        except ValueError:\n",
        "            print(\"Invalid input. Please enter a number between 1 and 100.\")\n",
        "\n",
        "print(\"Welcome to NeuroScan AI By Ishan Leung\")\n",
        "pick_class()\n",
        "pick_number()\n",
        "img_file = f\"/content/dist/{class_name}/image({image_number}).jpg\"\n",
        "print(img_file)\n",
        "\n",
        "\n",
        "# Create the array of the right shape to feed into the keras model\n",
        "# The 'length' or number of images you can put into the array is\n",
        "# determined by the first position in the shape tuple, in this case 1\n",
        "data = np.ndarray(shape=(1, 224, 224, 3), dtype=np.float32)\n",
        "\n",
        "# Replace this with the path to your image\n",
        "image = Image.open(img_file).convert(\"RGB\")\n",
        "\n",
        "# resizing the image to be at least 224x224 and then cropping from the center\n",
        "size = (224, 224)\n",
        "image = ImageOps.fit(image, size, Image.Resampling.LANCZOS)\n",
        "\n",
        "# turn the image into a numpy array\n",
        "image_array = np.asarray(image)\n",
        "\n",
        "# Normalize the image\n",
        "normalized_image_array = (image_array.astype(np.float32) / 127.5) - 1\n",
        "\n",
        "# Load the image into the array\n",
        "data[0] = normalized_image_array\n",
        "\n",
        "# Predicts the model\n",
        "prediction = model.predict(data)\n",
        "index = np.argmax(prediction)\n",
        "class_name = class_names[index]\n",
        "confidence_score = prediction[0][index]\n",
        "\n",
        "# Print prediction and confidence score\n",
        "print(\"Class:\", class_name[2:], end=\"\")\n",
        "print(\"Confidence Score:\", confidence_score)\n",
        "print(\"Accuracy:\", round(confidence_score * 100, 2), \"%\"\n"
      ],
      "metadata": {
        "id": "NVLlYrUTSioj",
        "colab": {
          "base_uri": "https://localhost:8080/"
        },
        "outputId": "19d2e259-4a89-4677-e9f7-578591e36146"
      },
      "execution_count": 3,
      "outputs": [
        {
          "output_type": "stream",
          "name": "stdout",
          "text": [
            "Welcome to NeuroScan AI By Ishan Leung\n",
            "Which model version would you like to use? 1 for model 1, 2 for model 2, 3 for model 3: 1\n",
            "Model 1 has been selected\n",
            "Welcome to NeuroScan AI By Ishan Leung\n",
            "Which class are you testing? `N` for No Tumor, `P` for Pituitary Tumor, `M` for Meningioma Tumor, & `G` for Glioma Tumor: N\n",
            "Class N has been selected\n",
            "Pick a number between 1 and 100: 3\n",
            "Number 3 has been selected\n",
            "/content/dist/N/image(3).jpg\n",
            "1/1 [==============================] - 1s 772ms/step\n",
            "Class: No Tumor\n",
            "Confidence Score: 0.9632793\n",
            "Accuracy: 96.33 %\n"
          ]
        }
      ]
    }
  ]
}